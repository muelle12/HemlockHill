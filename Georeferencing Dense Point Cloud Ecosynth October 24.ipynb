{
 "metadata": {
  "name": "",
  "signature": "sha256:685ad30659865923aeede70c859f2f0c9e44f6434a3f835942eba210b745e0e9"
 },
 "nbformat": 3,
 "nbformat_minor": 0,
 "worksheets": [
  {
   "cells": [
    {
     "cell_type": "markdown",
     "metadata": {},
     "source": [
      "October 24:\n",
      "Trying to use Ecosynth aerial for georeferencing a dense point cloud.\n",
      "\n",
      "#Using: \n",
      "**Dense_pointCloud.ply** \n",
      "located in C:\\Users\\jmueller\\Desktop\\00_UWL\\01_Mission_files\\00_HemlockHill\\Flight_Sept10_2014\\01_Photoscan_Products\n",
      "\n",
      "Corresponding Copter Log: **40.bin**\n",
      "located in C:\\Users\\jmueller\\Desktop\\00_UWL\\01_Mission_files\\00_HemlockHill\\Flight_Sept10_2014\\Copter_Logs\n",
      "\n",
      "**Out file from Sparce cloud**: Sept10_2014_Cams.out \n",
      "located in C:\\Users\\jmueller\\Desktop\\00_UWL\\01_Mission_files\\00_HemlockHill\\Flight_Sept10_2014\\01_Photoscan_Products\n",
      "\n",
      "##Output \n",
      "Save to \n",
      "**C:\\Users\\jmueller\\Desktop\\00_UWL\\01_Mission_files\\00_HemlockHill\\Flight_Sept10_2014\\01_Photoscan_Products**"
     ]
    }
   ],
   "metadata": {}
  }
 ]
}